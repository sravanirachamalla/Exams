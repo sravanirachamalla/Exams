{
  "nbformat": 4,
  "nbformat_minor": 0,
  "metadata": {
    "colab": {
      "name": "MLRM.ipynb",
      "provenance": [],
      "collapsed_sections": []
    },
    "kernelspec": {
      "name": "python3",
      "display_name": "Python 3"
    },
    "language_info": {
      "name": "python"
    }
  },
  "cells": [
    {
      "cell_type": "markdown",
      "metadata": {
        "id": "7-17Jls98UN6"
      },
      "source": [
        "# **Multiple Linear Regression**"
      ]
    },
    {
      "cell_type": "code",
      "metadata": {
        "id": "VOn7ScLc9iPA"
      },
      "source": [
        "import pandas as pd\n",
        "import numpy as np"
      ],
      "execution_count": 1,
      "outputs": []
    },
    {
      "cell_type": "markdown",
      "metadata": {
        "id": "TryELSc08Y5S"
      },
      "source": [
        "**Loading the dataset**"
      ]
    },
    {
      "cell_type": "code",
      "metadata": {
        "id": "WD3EPhuk8KFr"
      },
      "source": [
        "ipl_auction_df = pd.read_csv( 'https://raw.githubusercontent.com/sravanirachamalla/MLA2021/main/Data/IPL%20IMB381IPL2013.csv' )"
      ],
      "execution_count": 2,
      "outputs": []
    },
    {
      "cell_type": "code",
      "metadata": {
        "colab": {
          "base_uri": "https://localhost:8080/"
        },
        "id": "vKKFQPpB9ooJ",
        "outputId": "0afb8595-9891-480c-a1c6-caab178a445f"
      },
      "source": [
        "ipl_auction_df.info()"
      ],
      "execution_count": 3,
      "outputs": [
        {
          "output_type": "stream",
          "name": "stdout",
          "text": [
            "<class 'pandas.core.frame.DataFrame'>\n",
            "RangeIndex: 130 entries, 0 to 129\n",
            "Data columns (total 26 columns):\n",
            " #   Column         Non-Null Count  Dtype  \n",
            "---  ------         --------------  -----  \n",
            " 0   Sl.NO.         130 non-null    int64  \n",
            " 1   PLAYER NAME    130 non-null    object \n",
            " 2   AGE            130 non-null    int64  \n",
            " 3   COUNTRY        130 non-null    object \n",
            " 4   TEAM           130 non-null    object \n",
            " 5   PLAYING ROLE   130 non-null    object \n",
            " 6   T-RUNS         130 non-null    int64  \n",
            " 7   T-WKTS         130 non-null    int64  \n",
            " 8   ODI-RUNS-S     130 non-null    int64  \n",
            " 9   ODI-SR-B       130 non-null    float64\n",
            " 10  ODI-WKTS       130 non-null    int64  \n",
            " 11  ODI-SR-BL      130 non-null    float64\n",
            " 12  CAPTAINCY EXP  130 non-null    int64  \n",
            " 13  RUNS-S         130 non-null    int64  \n",
            " 14  HS             130 non-null    int64  \n",
            " 15  AVE            130 non-null    float64\n",
            " 16  SR-B           130 non-null    float64\n",
            " 17  SIXERS         130 non-null    int64  \n",
            " 18  RUNS-C         130 non-null    int64  \n",
            " 19  WKTS           130 non-null    int64  \n",
            " 20  AVE-BL         130 non-null    float64\n",
            " 21  ECON           130 non-null    float64\n",
            " 22  SR-BL          130 non-null    float64\n",
            " 23  AUCTION YEAR   130 non-null    int64  \n",
            " 24  BASE PRICE     130 non-null    int64  \n",
            " 25  SOLD PRICE     130 non-null    int64  \n",
            "dtypes: float64(7), int64(15), object(4)\n",
            "memory usage: 26.5+ KB\n"
          ]
        }
      ]
    },
    {
      "cell_type": "code",
      "metadata": {
        "colab": {
          "base_uri": "https://localhost:8080/",
          "height": 203
        },
        "id": "N5H6-Q5N9wwW",
        "outputId": "91b9c7a9-50e1-48fc-e72e-ad11a6d04ca5"
      },
      "source": [
        "ipl_auction_df.iloc[0:5, 0:10]"
      ],
      "execution_count": 4,
      "outputs": [
        {
          "output_type": "execute_result",
          "data": {
            "text/html": [
              "<div>\n",
              "<style scoped>\n",
              "    .dataframe tbody tr th:only-of-type {\n",
              "        vertical-align: middle;\n",
              "    }\n",
              "\n",
              "    .dataframe tbody tr th {\n",
              "        vertical-align: top;\n",
              "    }\n",
              "\n",
              "    .dataframe thead th {\n",
              "        text-align: right;\n",
              "    }\n",
              "</style>\n",
              "<table border=\"1\" class=\"dataframe\">\n",
              "  <thead>\n",
              "    <tr style=\"text-align: right;\">\n",
              "      <th></th>\n",
              "      <th>Sl.NO.</th>\n",
              "      <th>PLAYER NAME</th>\n",
              "      <th>AGE</th>\n",
              "      <th>COUNTRY</th>\n",
              "      <th>TEAM</th>\n",
              "      <th>PLAYING ROLE</th>\n",
              "      <th>T-RUNS</th>\n",
              "      <th>T-WKTS</th>\n",
              "      <th>ODI-RUNS-S</th>\n",
              "      <th>ODI-SR-B</th>\n",
              "    </tr>\n",
              "  </thead>\n",
              "  <tbody>\n",
              "    <tr>\n",
              "      <th>0</th>\n",
              "      <td>1</td>\n",
              "      <td>Abdulla, YA</td>\n",
              "      <td>2</td>\n",
              "      <td>SA</td>\n",
              "      <td>KXIP</td>\n",
              "      <td>Allrounder</td>\n",
              "      <td>0</td>\n",
              "      <td>0</td>\n",
              "      <td>0</td>\n",
              "      <td>0.00</td>\n",
              "    </tr>\n",
              "    <tr>\n",
              "      <th>1</th>\n",
              "      <td>2</td>\n",
              "      <td>Abdur Razzak</td>\n",
              "      <td>2</td>\n",
              "      <td>BAN</td>\n",
              "      <td>RCB</td>\n",
              "      <td>Bowler</td>\n",
              "      <td>214</td>\n",
              "      <td>18</td>\n",
              "      <td>657</td>\n",
              "      <td>71.41</td>\n",
              "    </tr>\n",
              "    <tr>\n",
              "      <th>2</th>\n",
              "      <td>3</td>\n",
              "      <td>Agarkar, AB</td>\n",
              "      <td>2</td>\n",
              "      <td>IND</td>\n",
              "      <td>KKR</td>\n",
              "      <td>Bowler</td>\n",
              "      <td>571</td>\n",
              "      <td>58</td>\n",
              "      <td>1269</td>\n",
              "      <td>80.62</td>\n",
              "    </tr>\n",
              "    <tr>\n",
              "      <th>3</th>\n",
              "      <td>4</td>\n",
              "      <td>Ashwin, R</td>\n",
              "      <td>1</td>\n",
              "      <td>IND</td>\n",
              "      <td>CSK</td>\n",
              "      <td>Bowler</td>\n",
              "      <td>284</td>\n",
              "      <td>31</td>\n",
              "      <td>241</td>\n",
              "      <td>84.56</td>\n",
              "    </tr>\n",
              "    <tr>\n",
              "      <th>4</th>\n",
              "      <td>5</td>\n",
              "      <td>Badrinath, S</td>\n",
              "      <td>2</td>\n",
              "      <td>IND</td>\n",
              "      <td>CSK</td>\n",
              "      <td>Batsman</td>\n",
              "      <td>63</td>\n",
              "      <td>0</td>\n",
              "      <td>79</td>\n",
              "      <td>45.93</td>\n",
              "    </tr>\n",
              "  </tbody>\n",
              "</table>\n",
              "</div>"
            ],
            "text/plain": [
              "   Sl.NO.   PLAYER NAME  AGE COUNTRY  ... T-RUNS T-WKTS  ODI-RUNS-S  ODI-SR-B\n",
              "0       1   Abdulla, YA    2      SA  ...      0      0           0      0.00\n",
              "1       2  Abdur Razzak    2     BAN  ...    214     18         657     71.41\n",
              "2       3   Agarkar, AB    2     IND  ...    571     58        1269     80.62\n",
              "3       4     Ashwin, R    1     IND  ...    284     31         241     84.56\n",
              "4       5  Badrinath, S    2     IND  ...     63      0          79     45.93\n",
              "\n",
              "[5 rows x 10 columns]"
            ]
          },
          "metadata": {},
          "execution_count": 4
        }
      ]
    },
    {
      "cell_type": "code",
      "metadata": {
        "colab": {
          "base_uri": "https://localhost:8080/",
          "height": 203
        },
        "id": "nDbtlQrR93XE",
        "outputId": "03e2f09b-4adb-45e7-e6f5-6dc5756121de"
      },
      "source": [
        "ipl_auction_df.iloc[0:5, 13:]"
      ],
      "execution_count": 5,
      "outputs": [
        {
          "output_type": "execute_result",
          "data": {
            "text/html": [
              "<div>\n",
              "<style scoped>\n",
              "    .dataframe tbody tr th:only-of-type {\n",
              "        vertical-align: middle;\n",
              "    }\n",
              "\n",
              "    .dataframe tbody tr th {\n",
              "        vertical-align: top;\n",
              "    }\n",
              "\n",
              "    .dataframe thead th {\n",
              "        text-align: right;\n",
              "    }\n",
              "</style>\n",
              "<table border=\"1\" class=\"dataframe\">\n",
              "  <thead>\n",
              "    <tr style=\"text-align: right;\">\n",
              "      <th></th>\n",
              "      <th>RUNS-S</th>\n",
              "      <th>HS</th>\n",
              "      <th>AVE</th>\n",
              "      <th>SR-B</th>\n",
              "      <th>SIXERS</th>\n",
              "      <th>RUNS-C</th>\n",
              "      <th>WKTS</th>\n",
              "      <th>AVE-BL</th>\n",
              "      <th>ECON</th>\n",
              "      <th>SR-BL</th>\n",
              "      <th>AUCTION YEAR</th>\n",
              "      <th>BASE PRICE</th>\n",
              "      <th>SOLD PRICE</th>\n",
              "    </tr>\n",
              "  </thead>\n",
              "  <tbody>\n",
              "    <tr>\n",
              "      <th>0</th>\n",
              "      <td>0</td>\n",
              "      <td>0</td>\n",
              "      <td>0.00</td>\n",
              "      <td>0.00</td>\n",
              "      <td>0</td>\n",
              "      <td>307</td>\n",
              "      <td>15</td>\n",
              "      <td>20.47</td>\n",
              "      <td>8.90</td>\n",
              "      <td>13.93</td>\n",
              "      <td>2009</td>\n",
              "      <td>50000</td>\n",
              "      <td>50000</td>\n",
              "    </tr>\n",
              "    <tr>\n",
              "      <th>1</th>\n",
              "      <td>0</td>\n",
              "      <td>0</td>\n",
              "      <td>0.00</td>\n",
              "      <td>0.00</td>\n",
              "      <td>0</td>\n",
              "      <td>29</td>\n",
              "      <td>0</td>\n",
              "      <td>0.00</td>\n",
              "      <td>14.50</td>\n",
              "      <td>0.00</td>\n",
              "      <td>2008</td>\n",
              "      <td>50000</td>\n",
              "      <td>50000</td>\n",
              "    </tr>\n",
              "    <tr>\n",
              "      <th>2</th>\n",
              "      <td>167</td>\n",
              "      <td>39</td>\n",
              "      <td>18.56</td>\n",
              "      <td>121.01</td>\n",
              "      <td>5</td>\n",
              "      <td>1059</td>\n",
              "      <td>29</td>\n",
              "      <td>36.52</td>\n",
              "      <td>8.81</td>\n",
              "      <td>24.90</td>\n",
              "      <td>2008</td>\n",
              "      <td>200000</td>\n",
              "      <td>350000</td>\n",
              "    </tr>\n",
              "    <tr>\n",
              "      <th>3</th>\n",
              "      <td>58</td>\n",
              "      <td>11</td>\n",
              "      <td>5.80</td>\n",
              "      <td>76.32</td>\n",
              "      <td>0</td>\n",
              "      <td>1125</td>\n",
              "      <td>49</td>\n",
              "      <td>22.96</td>\n",
              "      <td>6.23</td>\n",
              "      <td>22.14</td>\n",
              "      <td>2011</td>\n",
              "      <td>100000</td>\n",
              "      <td>850000</td>\n",
              "    </tr>\n",
              "    <tr>\n",
              "      <th>4</th>\n",
              "      <td>1317</td>\n",
              "      <td>71</td>\n",
              "      <td>32.93</td>\n",
              "      <td>120.71</td>\n",
              "      <td>28</td>\n",
              "      <td>0</td>\n",
              "      <td>0</td>\n",
              "      <td>0.00</td>\n",
              "      <td>0.00</td>\n",
              "      <td>0.00</td>\n",
              "      <td>2011</td>\n",
              "      <td>100000</td>\n",
              "      <td>800000</td>\n",
              "    </tr>\n",
              "  </tbody>\n",
              "</table>\n",
              "</div>"
            ],
            "text/plain": [
              "   RUNS-S  HS    AVE    SR-B  ...  SR-BL  AUCTION YEAR  BASE PRICE  SOLD PRICE\n",
              "0       0   0   0.00    0.00  ...  13.93          2009       50000       50000\n",
              "1       0   0   0.00    0.00  ...   0.00          2008       50000       50000\n",
              "2     167  39  18.56  121.01  ...  24.90          2008      200000      350000\n",
              "3      58  11   5.80   76.32  ...  22.14          2011      100000      850000\n",
              "4    1317  71  32.93  120.71  ...   0.00          2011      100000      800000\n",
              "\n",
              "[5 rows x 13 columns]"
            ]
          },
          "metadata": {},
          "execution_count": 5
        }
      ]
    },
    {
      "cell_type": "code",
      "metadata": {
        "id": "3oaZocOP97Yq"
      },
      "source": [
        "X_features = ipl_auction_df.columns"
      ],
      "execution_count": 6,
      "outputs": []
    },
    {
      "cell_type": "code",
      "metadata": {
        "id": "HiypqZqB9_Cw"
      },
      "source": [
        "X_features = ['AGE', 'COUNTRY', 'PLAYING ROLE',\n",
        "'T-RUNS', 'T-WKTS', 'ODI-RUNS-S', 'ODI-SR-B',\n",
        "'ODI-WKTS', 'ODI-SR-BL', 'CAPTAINCY EXP', 'RUNS-S',\n",
        "'HS', 'AVE', 'SR-B', 'SIXERS', 'RUNS-C', 'WKTS',\n",
        "'AVE-BL', 'ECON', 'SR-BL']"
      ],
      "execution_count": 7,
      "outputs": []
    },
    {
      "cell_type": "markdown",
      "metadata": {
        "id": "G0RlK4E2-DCN"
      },
      "source": [
        "## **Encoding Categorical Features**"
      ]
    },
    {
      "cell_type": "code",
      "metadata": {
        "colab": {
          "base_uri": "https://localhost:8080/"
        },
        "id": "y42KmkIV-GaF",
        "outputId": "8391fe94-2e1c-4f8e-d37c-6085eefaa502"
      },
      "source": [
        "ipl_auction_df['PLAYING ROLE'].unique()\n",
        "#Machine learning models require all input and output variables to be numeric. \n",
        "#This means that if your data contains categorical data, you must encode it to numbers before you can fit and evaluate a model."
      ],
      "execution_count": 9,
      "outputs": [
        {
          "output_type": "execute_result",
          "data": {
            "text/plain": [
              "array(['Allrounder', 'Bowler', 'Batsman', 'W. Keeper'], dtype=object)"
            ]
          },
          "metadata": {},
          "execution_count": 9
        }
      ]
    },
    {
      "cell_type": "code",
      "metadata": {
        "colab": {
          "base_uri": "https://localhost:8080/",
          "height": 203
        },
        "id": "iDmUmsOT-Pgo",
        "outputId": "f66f621e-4b30-48f6-b626-5f2f42da16b3"
      },
      "source": [
        "pd.get_dummies(ipl_auction_df['PLAYING ROLE'])[0:5]"
      ],
      "execution_count": 10,
      "outputs": [
        {
          "output_type": "execute_result",
          "data": {
            "text/html": [
              "<div>\n",
              "<style scoped>\n",
              "    .dataframe tbody tr th:only-of-type {\n",
              "        vertical-align: middle;\n",
              "    }\n",
              "\n",
              "    .dataframe tbody tr th {\n",
              "        vertical-align: top;\n",
              "    }\n",
              "\n",
              "    .dataframe thead th {\n",
              "        text-align: right;\n",
              "    }\n",
              "</style>\n",
              "<table border=\"1\" class=\"dataframe\">\n",
              "  <thead>\n",
              "    <tr style=\"text-align: right;\">\n",
              "      <th></th>\n",
              "      <th>Allrounder</th>\n",
              "      <th>Batsman</th>\n",
              "      <th>Bowler</th>\n",
              "      <th>W. Keeper</th>\n",
              "    </tr>\n",
              "  </thead>\n",
              "  <tbody>\n",
              "    <tr>\n",
              "      <th>0</th>\n",
              "      <td>1</td>\n",
              "      <td>0</td>\n",
              "      <td>0</td>\n",
              "      <td>0</td>\n",
              "    </tr>\n",
              "    <tr>\n",
              "      <th>1</th>\n",
              "      <td>0</td>\n",
              "      <td>0</td>\n",
              "      <td>1</td>\n",
              "      <td>0</td>\n",
              "    </tr>\n",
              "    <tr>\n",
              "      <th>2</th>\n",
              "      <td>0</td>\n",
              "      <td>0</td>\n",
              "      <td>1</td>\n",
              "      <td>0</td>\n",
              "    </tr>\n",
              "    <tr>\n",
              "      <th>3</th>\n",
              "      <td>0</td>\n",
              "      <td>0</td>\n",
              "      <td>1</td>\n",
              "      <td>0</td>\n",
              "    </tr>\n",
              "    <tr>\n",
              "      <th>4</th>\n",
              "      <td>0</td>\n",
              "      <td>1</td>\n",
              "      <td>0</td>\n",
              "      <td>0</td>\n",
              "    </tr>\n",
              "  </tbody>\n",
              "</table>\n",
              "</div>"
            ],
            "text/plain": [
              "   Allrounder  Batsman  Bowler  W. Keeper\n",
              "0           1        0       0          0\n",
              "1           0        0       1          0\n",
              "2           0        0       1          0\n",
              "3           0        0       1          0\n",
              "4           0        1       0          0"
            ]
          },
          "metadata": {},
          "execution_count": 10
        }
      ]
    },
    {
      "cell_type": "code",
      "metadata": {
        "id": "06IhhrGJ-Vk4"
      },
      "source": [
        "categorical_features = ['AGE', 'COUNTRY', 'PLAYING ROLE', 'CAPTAINCY EXP']"
      ],
      "execution_count": 11,
      "outputs": []
    },
    {
      "cell_type": "code",
      "metadata": {
        "id": "XVNV6-8d-cYs"
      },
      "source": [
        "ipl_auction_encoded_df = pd.get_dummies( ipl_auction_df[X_features],\n",
        "columns = categorical_features,\n",
        "drop_first = True )"
      ],
      "execution_count": 12,
      "outputs": []
    },
    {
      "cell_type": "code",
      "metadata": {
        "colab": {
          "base_uri": "https://localhost:8080/"
        },
        "id": "5NCBUp3Z-g3E",
        "outputId": "238c90a0-6150-40b1-d5b9-734d4d1af7d2"
      },
      "source": [
        "ipl_auction_encoded_df.columns"
      ],
      "execution_count": 13,
      "outputs": [
        {
          "output_type": "execute_result",
          "data": {
            "text/plain": [
              "Index(['T-RUNS', 'T-WKTS', 'ODI-RUNS-S', 'ODI-SR-B', 'ODI-WKTS', 'ODI-SR-BL',\n",
              "       'RUNS-S', 'HS', 'AVE', 'SR-B', 'SIXERS', 'RUNS-C', 'WKTS', 'AVE-BL',\n",
              "       'ECON', 'SR-BL', 'AGE_2', 'AGE_3', 'COUNTRY_BAN', 'COUNTRY_ENG',\n",
              "       'COUNTRY_IND', 'COUNTRY_NZ', 'COUNTRY_PAK', 'COUNTRY_SA', 'COUNTRY_SL',\n",
              "       'COUNTRY_WI', 'COUNTRY_ZIM', 'PLAYING ROLE_Batsman',\n",
              "       'PLAYING ROLE_Bowler', 'PLAYING ROLE_W. Keeper', 'CAPTAINCY EXP_1'],\n",
              "      dtype='object')"
            ]
          },
          "metadata": {},
          "execution_count": 13
        }
      ]
    },
    {
      "cell_type": "code",
      "metadata": {
        "id": "94Wf6axV-taF"
      },
      "source": [
        "X_features = ipl_auction_encoded_df.columns"
      ],
      "execution_count": 14,
      "outputs": []
    },
    {
      "cell_type": "code",
      "metadata": {
        "id": "s-mCaRti_8jH",
        "colab": {
          "base_uri": "https://localhost:8080/"
        },
        "outputId": "4586af00-1daa-4e73-e16d-80bcf1a67844"
      },
      "source": [
        "import statsmodels.api as sm\n",
        "from sklearn.model_selection import train_test_split"
      ],
      "execution_count": 15,
      "outputs": [
        {
          "output_type": "stream",
          "name": "stderr",
          "text": [
            "/usr/local/lib/python3.7/dist-packages/statsmodels/tools/_testing.py:19: FutureWarning: pandas.util.testing is deprecated. Use the functions in the public API at pandas.testing instead.\n",
            "  import pandas.util.testing as tm\n"
          ]
        }
      ]
    },
    {
      "cell_type": "code",
      "metadata": {
        "id": "4n9P2nGN-x70"
      },
      "source": [
        "\n",
        "X = sm.add_constant( ipl_auction_encoded_df )\n",
        "Y = ipl_auction_df['SOLD PRICE']\n",
        "\n",
        "train_X, test_X, train_y, test_y = train_test_split( X ,\n",
        "                                                    Y,\n",
        "                                                    train_size = 0.8,\n",
        "                                                    random_state = 42 )"
      ],
      "execution_count": 16,
      "outputs": []
    },
    {
      "cell_type": "markdown",
      "metadata": {
        "id": "DvbTC8DpApKr"
      },
      "source": [
        "**Building the model on training dataset**"
      ]
    },
    {
      "cell_type": "code",
      "metadata": {
        "colab": {
          "base_uri": "https://localhost:8080/",
          "height": 919
        },
        "id": "P6gg0PFtAsUv",
        "outputId": "44d19684-8fee-435b-b2f9-660ca783203e"
      },
      "source": [
        "ipl_model_1 = sm.OLS(train_y, train_X).fit()\n",
        "ipl_model_1.summary2()"
      ],
      "execution_count": 17,
      "outputs": [
        {
          "output_type": "execute_result",
          "data": {
            "text/html": [
              "<table class=\"simpletable\">\n",
              "<tr>\n",
              "        <td>Model:</td>               <td>OLS</td>         <td>Adj. R-squared:</td>      <td>0.362</td>  \n",
              "</tr>\n",
              "<tr>\n",
              "  <td>Dependent Variable:</td>    <td>SOLD PRICE</td>           <td>AIC:</td>          <td>2965.2841</td>\n",
              "</tr>\n",
              "<tr>\n",
              "         <td>Date:</td>        <td>2021-10-16 13:52</td>        <td>BIC:</td>          <td>3049.9046</td>\n",
              "</tr>\n",
              "<tr>\n",
              "   <td>No. Observations:</td>         <td>104</td>         <td>Log-Likelihood:</td>     <td>-1450.6</td> \n",
              "</tr>\n",
              "<tr>\n",
              "       <td>Df Model:</td>             <td>31</td>           <td>F-statistic:</td>        <td>2.883</td>  \n",
              "</tr>\n",
              "<tr>\n",
              "     <td>Df Residuals:</td>           <td>72</td>        <td>Prob (F-statistic):</td>  <td>0.000114</td> \n",
              "</tr>\n",
              "<tr>\n",
              "      <td>R-squared:</td>            <td>0.554</td>            <td>Scale:</td>        <td>1.1034e+11</td>\n",
              "</tr>\n",
              "</table>\n",
              "<table class=\"simpletable\">\n",
              "<tr>\n",
              "             <td></td>                <th>Coef.</th>     <th>Std.Err.</th>      <th>t</th>     <th>P>|t|</th>    <th>[0.025</th>       <th>0.975]</th>   \n",
              "</tr>\n",
              "<tr>\n",
              "  <th>const</th>                   <td>375827.1991</td> <td>228849.9306</td> <td>1.6422</td>  <td>0.1049</td>  <td>-80376.7996</td>  <td>832031.1978</td>\n",
              "</tr>\n",
              "<tr>\n",
              "  <th>T-RUNS</th>                   <td>-53.7890</td>     <td>32.7172</td>   <td>-1.6441</td> <td>0.1045</td>   <td>-119.0096</td>     <td>11.4316</td>  \n",
              "</tr>\n",
              "<tr>\n",
              "  <th>T-WKTS</th>                   <td>-132.5967</td>   <td>609.7525</td>   <td>-0.2175</td> <td>0.8285</td>  <td>-1348.1162</td>    <td>1082.9228</td> \n",
              "</tr>\n",
              "<tr>\n",
              "  <th>ODI-RUNS-S</th>                <td>57.9600</td>     <td>31.5071</td>   <td>1.8396</td>  <td>0.0700</td>    <td>-4.8482</td>     <td>120.7681</td>  \n",
              "</tr>\n",
              "<tr>\n",
              "  <th>ODI-SR-B</th>                 <td>-524.1450</td>   <td>1576.6368</td>  <td>-0.3324</td> <td>0.7405</td>  <td>-3667.1130</td>    <td>2618.8231</td> \n",
              "</tr>\n",
              "<tr>\n",
              "  <th>ODI-WKTS</th>                 <td>815.3944</td>    <td>832.3883</td>   <td>0.9796</td>  <td>0.3306</td>   <td>-843.9413</td>    <td>2474.7301</td> \n",
              "</tr>\n",
              "<tr>\n",
              "  <th>ODI-SR-BL</th>                <td>-773.3092</td>   <td>1536.3334</td>  <td>-0.5033</td> <td>0.6163</td>  <td>-3835.9338</td>    <td>2289.3154</td> \n",
              "</tr>\n",
              "<tr>\n",
              "  <th>RUNS-S</th>                   <td>114.7205</td>    <td>173.3088</td>   <td>0.6619</td>  <td>0.5101</td>   <td>-230.7643</td>    <td>460.2054</td>  \n",
              "</tr>\n",
              "<tr>\n",
              "  <th>HS</th>                      <td>-5516.3354</td>   <td>2586.3277</td>  <td>-2.1329</td> <td>0.0363</td>  <td>-10672.0855</td>   <td>-360.5853</td> \n",
              "</tr>\n",
              "<tr>\n",
              "  <th>AVE</th>                     <td>21560.2760</td>   <td>7774.2419</td>  <td>2.7733</td>  <td>0.0071</td>   <td>6062.6080</td>   <td>37057.9439</td> \n",
              "</tr>\n",
              "<tr>\n",
              "  <th>SR-B</th>                    <td>-1324.7218</td>   <td>1373.1303</td>  <td>-0.9647</td> <td>0.3379</td>  <td>-4062.0071</td>    <td>1412.5635</td> \n",
              "</tr>\n",
              "<tr>\n",
              "  <th>SIXERS</th>                   <td>4264.1001</td>   <td>4089.6000</td>  <td>1.0427</td>  <td>0.3006</td>  <td>-3888.3685</td>   <td>12416.5687</td> \n",
              "</tr>\n",
              "<tr>\n",
              "  <th>RUNS-C</th>                    <td>69.8250</td>    <td>297.6697</td>   <td>0.2346</td>  <td>0.8152</td>   <td>-523.5687</td>    <td>663.2187</td>  \n",
              "</tr>\n",
              "<tr>\n",
              "  <th>WKTS</th>                     <td>3075.2422</td>   <td>7262.4452</td>  <td>0.4234</td>  <td>0.6732</td>  <td>-11402.1778</td>  <td>17552.6622</td> \n",
              "</tr>\n",
              "<tr>\n",
              "  <th>AVE-BL</th>                   <td>5182.9335</td>  <td>10230.1581</td>  <td>0.5066</td>  <td>0.6140</td>  <td>-15210.5140</td>  <td>25576.3810</td> \n",
              "</tr>\n",
              "<tr>\n",
              "  <th>ECON</th>                    <td>-6820.7781</td>  <td>13109.3693</td>  <td>-0.5203</td> <td>0.6045</td>  <td>-32953.8282</td>  <td>19312.2721</td> \n",
              "</tr>\n",
              "<tr>\n",
              "  <th>SR-BL</th>                   <td>-7658.8094</td>  <td>14041.8735</td>  <td>-0.5454</td> <td>0.5871</td>  <td>-35650.7726</td>  <td>20333.1539</td> \n",
              "</tr>\n",
              "<tr>\n",
              "  <th>AGE_2</th>                  <td>-230767.6463</td> <td>114117.2005</td> <td>-2.0222</td> <td>0.0469</td> <td>-458256.1279</td>  <td>-3279.1648</td> \n",
              "</tr>\n",
              "<tr>\n",
              "  <th>AGE_3</th>                  <td>-216827.0808</td> <td>152246.6232</td> <td>-1.4242</td> <td>0.1587</td> <td>-520325.1772</td>  <td>86671.0155</td> \n",
              "</tr>\n",
              "<tr>\n",
              "  <th>COUNTRY_BAN</th>            <td>-122103.5196</td> <td>438719.2796</td> <td>-0.2783</td> <td>0.7816</td> <td>-996674.4194</td>  <td>752467.3801</td>\n",
              "</tr>\n",
              "<tr>\n",
              "  <th>COUNTRY_ENG</th>             <td>672410.7654</td> <td>238386.2220</td> <td>2.8207</td>  <td>0.0062</td>  <td>197196.5172</td> <td>1147625.0135</td>\n",
              "</tr>\n",
              "<tr>\n",
              "  <th>COUNTRY_IND</th>             <td>155306.4011</td> <td>126316.3449</td> <td>1.2295</td>  <td>0.2229</td>  <td>-96500.6302</td>  <td>407113.4325</td>\n",
              "</tr>\n",
              "<tr>\n",
              "  <th>COUNTRY_NZ</th>              <td>194218.9120</td> <td>173491.9293</td> <td>1.1195</td>  <td>0.2667</td> <td>-151630.9280</td>  <td>540068.7521</td>\n",
              "</tr>\n",
              "<tr>\n",
              "  <th>COUNTRY_PAK</th>             <td>75921.7670</td>  <td>193463.5545</td> <td>0.3924</td>  <td>0.6959</td> <td>-309740.7804</td>  <td>461584.3143</td>\n",
              "</tr>\n",
              "<tr>\n",
              "  <th>COUNTRY_SA</th>              <td>64283.3894</td>  <td>144587.6773</td> <td>0.4446</td>  <td>0.6579</td> <td>-223946.8775</td>  <td>352513.6563</td>\n",
              "</tr>\n",
              "<tr>\n",
              "  <th>COUNTRY_SL</th>              <td>17360.1530</td>  <td>176333.7497</td> <td>0.0985</td>  <td>0.9218</td> <td>-334154.7526</td>  <td>368875.0586</td>\n",
              "</tr>\n",
              "<tr>\n",
              "  <th>COUNTRY_WI</th>              <td>10607.7792</td>  <td>230686.7892</td> <td>0.0460</td>  <td>0.9635</td> <td>-449257.9303</td>  <td>470473.4887</td>\n",
              "</tr>\n",
              "<tr>\n",
              "  <th>COUNTRY_ZIM</th>            <td>-145494.4793</td> <td>401505.2815</td> <td>-0.3624</td> <td>0.7181</td> <td>-945880.6296</td>  <td>654891.6710</td>\n",
              "</tr>\n",
              "<tr>\n",
              "  <th>PLAYING ROLE_Batsman</th>    <td>75724.7643</td>  <td>150250.0240</td> <td>0.5040</td>  <td>0.6158</td> <td>-223793.1844</td>  <td>375242.7130</td>\n",
              "</tr>\n",
              "<tr>\n",
              "  <th>PLAYING ROLE_Bowler</th>     <td>15395.8752</td>  <td>126308.1272</td> <td>0.1219</td>  <td>0.9033</td> <td>-236394.7744</td>  <td>267186.5249</td>\n",
              "</tr>\n",
              "<tr>\n",
              "  <th>PLAYING ROLE_W. Keeper</th>  <td>-71358.6280</td> <td>213585.7444</td> <td>-0.3341</td> <td>0.7393</td> <td>-497134.0278</td>  <td>354416.7718</td>\n",
              "</tr>\n",
              "<tr>\n",
              "  <th>CAPTAINCY EXP_1</th>         <td>164113.3972</td> <td>123430.6353</td> <td>1.3296</td>  <td>0.1878</td>  <td>-81941.0772</td>  <td>410167.8716</td>\n",
              "</tr>\n",
              "</table>\n",
              "<table class=\"simpletable\">\n",
              "<tr>\n",
              "     <td>Omnibus:</td>    <td>0.891</td>  <td>Durbin-Watson:</td>   <td>2.244</td>\n",
              "</tr>\n",
              "<tr>\n",
              "  <td>Prob(Omnibus):</td> <td>0.640</td> <td>Jarque-Bera (JB):</td> <td>0.638</td>\n",
              "</tr>\n",
              "<tr>\n",
              "       <td>Skew:</td>     <td>0.190</td>     <td>Prob(JB):</td>     <td>0.727</td>\n",
              "</tr>\n",
              "<tr>\n",
              "     <td>Kurtosis:</td>   <td>3.059</td>  <td>Condition No.:</td>   <td>84116</td>\n",
              "</tr>\n",
              "</table>"
            ],
            "text/plain": [
              "<class 'statsmodels.iolib.summary2.Summary'>\n",
              "\"\"\"\n",
              "                            Results: Ordinary least squares\n",
              "========================================================================================\n",
              "Model:                     OLS                     Adj. R-squared:            0.362     \n",
              "Dependent Variable:        SOLD PRICE              AIC:                       2965.2841 \n",
              "Date:                      2021-10-16 13:52        BIC:                       3049.9046 \n",
              "No. Observations:          104                     Log-Likelihood:            -1450.6   \n",
              "Df Model:                  31                      F-statistic:               2.883     \n",
              "Df Residuals:              72                      Prob (F-statistic):        0.000114  \n",
              "R-squared:                 0.554                   Scale:                     1.1034e+11\n",
              "----------------------------------------------------------------------------------------\n",
              "                          Coef.       Std.Err.     t    P>|t|     [0.025       0.975]   \n",
              "----------------------------------------------------------------------------------------\n",
              "const                   375827.1991 228849.9306  1.6422 0.1049  -80376.7996  832031.1978\n",
              "T-RUNS                     -53.7890     32.7172 -1.6441 0.1045    -119.0096      11.4316\n",
              "T-WKTS                    -132.5967    609.7525 -0.2175 0.8285   -1348.1162    1082.9228\n",
              "ODI-RUNS-S                  57.9600     31.5071  1.8396 0.0700      -4.8482     120.7681\n",
              "ODI-SR-B                  -524.1450   1576.6368 -0.3324 0.7405   -3667.1130    2618.8231\n",
              "ODI-WKTS                   815.3944    832.3883  0.9796 0.3306    -843.9413    2474.7301\n",
              "ODI-SR-BL                 -773.3092   1536.3334 -0.5033 0.6163   -3835.9338    2289.3154\n",
              "RUNS-S                     114.7205    173.3088  0.6619 0.5101    -230.7643     460.2054\n",
              "HS                       -5516.3354   2586.3277 -2.1329 0.0363  -10672.0855    -360.5853\n",
              "AVE                      21560.2760   7774.2419  2.7733 0.0071    6062.6080   37057.9439\n",
              "SR-B                     -1324.7218   1373.1303 -0.9647 0.3379   -4062.0071    1412.5635\n",
              "SIXERS                    4264.1001   4089.6000  1.0427 0.3006   -3888.3685   12416.5687\n",
              "RUNS-C                      69.8250    297.6697  0.2346 0.8152    -523.5687     663.2187\n",
              "WKTS                      3075.2422   7262.4452  0.4234 0.6732  -11402.1778   17552.6622\n",
              "AVE-BL                    5182.9335  10230.1581  0.5066 0.6140  -15210.5140   25576.3810\n",
              "ECON                     -6820.7781  13109.3693 -0.5203 0.6045  -32953.8282   19312.2721\n",
              "SR-BL                    -7658.8094  14041.8735 -0.5454 0.5871  -35650.7726   20333.1539\n",
              "AGE_2                  -230767.6463 114117.2005 -2.0222 0.0469 -458256.1279   -3279.1648\n",
              "AGE_3                  -216827.0808 152246.6232 -1.4242 0.1587 -520325.1772   86671.0155\n",
              "COUNTRY_BAN            -122103.5196 438719.2796 -0.2783 0.7816 -996674.4194  752467.3801\n",
              "COUNTRY_ENG             672410.7654 238386.2220  2.8207 0.0062  197196.5172 1147625.0135\n",
              "COUNTRY_IND             155306.4011 126316.3449  1.2295 0.2229  -96500.6302  407113.4325\n",
              "COUNTRY_NZ              194218.9120 173491.9293  1.1195 0.2667 -151630.9280  540068.7521\n",
              "COUNTRY_PAK              75921.7670 193463.5545  0.3924 0.6959 -309740.7804  461584.3143\n",
              "COUNTRY_SA               64283.3894 144587.6773  0.4446 0.6579 -223946.8775  352513.6563\n",
              "COUNTRY_SL               17360.1530 176333.7497  0.0985 0.9218 -334154.7526  368875.0586\n",
              "COUNTRY_WI               10607.7792 230686.7892  0.0460 0.9635 -449257.9303  470473.4887\n",
              "COUNTRY_ZIM            -145494.4793 401505.2815 -0.3624 0.7181 -945880.6296  654891.6710\n",
              "PLAYING ROLE_Batsman     75724.7643 150250.0240  0.5040 0.6158 -223793.1844  375242.7130\n",
              "PLAYING ROLE_Bowler      15395.8752 126308.1272  0.1219 0.9033 -236394.7744  267186.5249\n",
              "PLAYING ROLE_W. Keeper  -71358.6280 213585.7444 -0.3341 0.7393 -497134.0278  354416.7718\n",
              "CAPTAINCY EXP_1         164113.3972 123430.6353  1.3296 0.1878  -81941.0772  410167.8716\n",
              "----------------------------------------------------------------------------------------\n",
              "Omnibus:                       0.891               Durbin-Watson:                  2.244\n",
              "Prob(Omnibus):                 0.640               Jarque-Bera (JB):               0.638\n",
              "Skew:                          0.190               Prob(JB):                       0.727\n",
              "Kurtosis:                      3.059               Condition No.:                  84116\n",
              "========================================================================================\n",
              "* The condition number is large (8e+04). This might indicate             strong\n",
              "multicollinearity or other numerical problems.\n",
              "\"\"\""
            ]
          },
          "metadata": {},
          "execution_count": 17
        }
      ]
    },
    {
      "cell_type": "markdown",
      "metadata": {
        "id": "47iEZE19Azzb"
      },
      "source": [
        "# **Multi-Collinearity**\n",
        "\n",
        "**VIF**"
      ]
    },
    {
      "cell_type": "code",
      "metadata": {
        "id": "wvgFZBzVYRNi"
      },
      "source": [
        "# Multi collinearity is because when the two independent variables are correlated to each other. So to sperate them we use vif which says that high VIF is not a good sign. "
      ],
      "execution_count": null,
      "outputs": []
    },
    {
      "cell_type": "code",
      "metadata": {
        "id": "waXOMp6gDi9X"
      },
      "source": [
        "# For each X, calculate VIF and save in dataframe\n",
        "from statsmodels.stats.outliers_influence import variance_inflation_factor\n",
        "def get_vif_factors( X ):\n",
        "  X_matrix = X.to_numpy()\n",
        "  vif = [ variance_inflation_factor( X_matrix, i ) for i in range( X_matrix.shape[1] ) ]\n",
        "  vif_factors = pd.DataFrame()\n",
        "  vif = [variance_inflation_factor(X.values, i) for i in range(X.shape[1])]\n",
        "  vif_factors['column'] = X.columns\n",
        "  vif_factors['vif'] = vif\n",
        "  return vif_factors  "
      ],
      "execution_count": 18,
      "outputs": []
    },
    {
      "cell_type": "code",
      "metadata": {
        "colab": {
          "base_uri": "https://localhost:8080/",
          "height": 1000
        },
        "id": "bmQ5pegXWEul",
        "outputId": "6786ba81-6086-47c7-ea33-b58daeb1c83d"
      },
      "source": [
        "vif_factors = get_vif_factors( X[X_features] )\n",
        "vif_factors\n",
        "# larger  VIF values higher the correlation btwn the independent variables "
      ],
      "execution_count": 20,
      "outputs": [
        {
          "output_type": "execute_result",
          "data": {
            "text/html": [
              "<div>\n",
              "<style scoped>\n",
              "    .dataframe tbody tr th:only-of-type {\n",
              "        vertical-align: middle;\n",
              "    }\n",
              "\n",
              "    .dataframe tbody tr th {\n",
              "        vertical-align: top;\n",
              "    }\n",
              "\n",
              "    .dataframe thead th {\n",
              "        text-align: right;\n",
              "    }\n",
              "</style>\n",
              "<table border=\"1\" class=\"dataframe\">\n",
              "  <thead>\n",
              "    <tr style=\"text-align: right;\">\n",
              "      <th></th>\n",
              "      <th>column</th>\n",
              "      <th>vif</th>\n",
              "    </tr>\n",
              "  </thead>\n",
              "  <tbody>\n",
              "    <tr>\n",
              "      <th>0</th>\n",
              "      <td>T-RUNS</td>\n",
              "      <td>12.612694</td>\n",
              "    </tr>\n",
              "    <tr>\n",
              "      <th>1</th>\n",
              "      <td>T-WKTS</td>\n",
              "      <td>7.679284</td>\n",
              "    </tr>\n",
              "    <tr>\n",
              "      <th>2</th>\n",
              "      <td>ODI-RUNS-S</td>\n",
              "      <td>16.426209</td>\n",
              "    </tr>\n",
              "    <tr>\n",
              "      <th>3</th>\n",
              "      <td>ODI-SR-B</td>\n",
              "      <td>13.829376</td>\n",
              "    </tr>\n",
              "    <tr>\n",
              "      <th>4</th>\n",
              "      <td>ODI-WKTS</td>\n",
              "      <td>9.951800</td>\n",
              "    </tr>\n",
              "    <tr>\n",
              "      <th>5</th>\n",
              "      <td>ODI-SR-BL</td>\n",
              "      <td>4.426818</td>\n",
              "    </tr>\n",
              "    <tr>\n",
              "      <th>6</th>\n",
              "      <td>RUNS-S</td>\n",
              "      <td>16.135407</td>\n",
              "    </tr>\n",
              "    <tr>\n",
              "      <th>7</th>\n",
              "      <td>HS</td>\n",
              "      <td>22.781017</td>\n",
              "    </tr>\n",
              "    <tr>\n",
              "      <th>8</th>\n",
              "      <td>AVE</td>\n",
              "      <td>25.226566</td>\n",
              "    </tr>\n",
              "    <tr>\n",
              "      <th>9</th>\n",
              "      <td>SR-B</td>\n",
              "      <td>21.576204</td>\n",
              "    </tr>\n",
              "    <tr>\n",
              "      <th>10</th>\n",
              "      <td>SIXERS</td>\n",
              "      <td>9.547268</td>\n",
              "    </tr>\n",
              "    <tr>\n",
              "      <th>11</th>\n",
              "      <td>RUNS-C</td>\n",
              "      <td>38.229691</td>\n",
              "    </tr>\n",
              "    <tr>\n",
              "      <th>12</th>\n",
              "      <td>WKTS</td>\n",
              "      <td>33.366067</td>\n",
              "    </tr>\n",
              "    <tr>\n",
              "      <th>13</th>\n",
              "      <td>AVE-BL</td>\n",
              "      <td>100.198105</td>\n",
              "    </tr>\n",
              "    <tr>\n",
              "      <th>14</th>\n",
              "      <td>ECON</td>\n",
              "      <td>7.650140</td>\n",
              "    </tr>\n",
              "    <tr>\n",
              "      <th>15</th>\n",
              "      <td>SR-BL</td>\n",
              "      <td>103.723846</td>\n",
              "    </tr>\n",
              "    <tr>\n",
              "      <th>16</th>\n",
              "      <td>AGE_2</td>\n",
              "      <td>6.996226</td>\n",
              "    </tr>\n",
              "    <tr>\n",
              "      <th>17</th>\n",
              "      <td>AGE_3</td>\n",
              "      <td>3.855003</td>\n",
              "    </tr>\n",
              "    <tr>\n",
              "      <th>18</th>\n",
              "      <td>COUNTRY_BAN</td>\n",
              "      <td>1.469017</td>\n",
              "    </tr>\n",
              "    <tr>\n",
              "      <th>19</th>\n",
              "      <td>COUNTRY_ENG</td>\n",
              "      <td>1.391524</td>\n",
              "    </tr>\n",
              "    <tr>\n",
              "      <th>20</th>\n",
              "      <td>COUNTRY_IND</td>\n",
              "      <td>4.568898</td>\n",
              "    </tr>\n",
              "    <tr>\n",
              "      <th>21</th>\n",
              "      <td>COUNTRY_NZ</td>\n",
              "      <td>1.497856</td>\n",
              "    </tr>\n",
              "    <tr>\n",
              "      <th>22</th>\n",
              "      <td>COUNTRY_PAK</td>\n",
              "      <td>1.796355</td>\n",
              "    </tr>\n",
              "    <tr>\n",
              "      <th>23</th>\n",
              "      <td>COUNTRY_SA</td>\n",
              "      <td>1.886555</td>\n",
              "    </tr>\n",
              "    <tr>\n",
              "      <th>24</th>\n",
              "      <td>COUNTRY_SL</td>\n",
              "      <td>1.984902</td>\n",
              "    </tr>\n",
              "    <tr>\n",
              "      <th>25</th>\n",
              "      <td>COUNTRY_WI</td>\n",
              "      <td>1.531847</td>\n",
              "    </tr>\n",
              "    <tr>\n",
              "      <th>26</th>\n",
              "      <td>COUNTRY_ZIM</td>\n",
              "      <td>1.312168</td>\n",
              "    </tr>\n",
              "    <tr>\n",
              "      <th>27</th>\n",
              "      <td>PLAYING ROLE_Batsman</td>\n",
              "      <td>4.843136</td>\n",
              "    </tr>\n",
              "    <tr>\n",
              "      <th>28</th>\n",
              "      <td>PLAYING ROLE_Bowler</td>\n",
              "      <td>3.795864</td>\n",
              "    </tr>\n",
              "    <tr>\n",
              "      <th>29</th>\n",
              "      <td>PLAYING ROLE_W. Keeper</td>\n",
              "      <td>3.132044</td>\n",
              "    </tr>\n",
              "    <tr>\n",
              "      <th>30</th>\n",
              "      <td>CAPTAINCY EXP_1</td>\n",
              "      <td>4.245128</td>\n",
              "    </tr>\n",
              "  </tbody>\n",
              "</table>\n",
              "</div>"
            ],
            "text/plain": [
              "                    column         vif\n",
              "0                   T-RUNS   12.612694\n",
              "1                   T-WKTS    7.679284\n",
              "2               ODI-RUNS-S   16.426209\n",
              "3                 ODI-SR-B   13.829376\n",
              "4                 ODI-WKTS    9.951800\n",
              "5                ODI-SR-BL    4.426818\n",
              "6                   RUNS-S   16.135407\n",
              "7                       HS   22.781017\n",
              "8                      AVE   25.226566\n",
              "9                     SR-B   21.576204\n",
              "10                  SIXERS    9.547268\n",
              "11                  RUNS-C   38.229691\n",
              "12                    WKTS   33.366067\n",
              "13                  AVE-BL  100.198105\n",
              "14                    ECON    7.650140\n",
              "15                   SR-BL  103.723846\n",
              "16                   AGE_2    6.996226\n",
              "17                   AGE_3    3.855003\n",
              "18             COUNTRY_BAN    1.469017\n",
              "19             COUNTRY_ENG    1.391524\n",
              "20             COUNTRY_IND    4.568898\n",
              "21              COUNTRY_NZ    1.497856\n",
              "22             COUNTRY_PAK    1.796355\n",
              "23              COUNTRY_SA    1.886555\n",
              "24              COUNTRY_SL    1.984902\n",
              "25              COUNTRY_WI    1.531847\n",
              "26             COUNTRY_ZIM    1.312168\n",
              "27    PLAYING ROLE_Batsman    4.843136\n",
              "28     PLAYING ROLE_Bowler    3.795864\n",
              "29  PLAYING ROLE_W. Keeper    3.132044\n",
              "30         CAPTAINCY EXP_1    4.245128"
            ]
          },
          "metadata": {},
          "execution_count": 20
        }
      ]
    },
    {
      "cell_type": "markdown",
      "metadata": {
        "id": "x7_2pyOgW3J9"
      },
      "source": [
        "Checking correlation of columns with large VIFs"
      ]
    },
    {
      "cell_type": "code",
      "metadata": {
        "id": "FXafSjzZW00b"
      },
      "source": [
        "columns_with_large_vif = vif_factors[vif_factors.vif > 4].column"
      ],
      "execution_count": 21,
      "outputs": []
    },
    {
      "cell_type": "code",
      "metadata": {
        "colab": {
          "base_uri": "https://localhost:8080/",
          "height": 718
        },
        "id": "1BL69eE2W99C",
        "outputId": "59b7156d-2f19-4e51-e4c3-61ba89fa39d9"
      },
      "source": [
        "import matplotlib.pyplot as plt\n",
        "import seaborn as sn\n",
        "%matplotlib inline\n",
        "\n",
        "plt.figure( figsize = (12,10) )\n",
        "sn.heatmap( X[columns_with_large_vif].corr(), annot = True );\n",
        "plt.title( \"Figure 4.5 - Heatmap depicting correlation between features\");"
      ],
      "execution_count": 22,
      "outputs": [
        {
          "output_type": "display_data",
          "data": {
            "image/png": "[encoded data removed]",
            "text/plain": [
              "<Figure size 864x720 with 2 Axes>"
            ]
          },
          "metadata": {
            "needs_background": "light"
          }
        }
      ]
    },
    {
      "cell_type": "code",
      "metadata": {
        "id": "l0Ykp1H2YOt6"
      },
      "source": [
        "columns_to_be_removed = ['T-RUNS', 'T-WKTS', 'RUNS-S', 'HS',\n",
        "'AVE', 'RUNS-C', 'SR-B', 'AVE-BL',\n",
        "'ECON', 'ODI-SR-B', 'ODI-RUNS-S', 'AGE_2', 'SR-BL']"
      ],
      "execution_count": 23,
      "outputs": []
    },
    {
      "cell_type": "code",
      "metadata": {
        "id": "cgy7sgSZYTD8"
      },
      "source": [
        "X_new_features = list( set(X_features) - set(columns_to_be_removed) )"
      ],
      "execution_count": 24,
      "outputs": []
    },
    {
      "cell_type": "code",
      "metadata": {
        "colab": {
          "base_uri": "https://localhost:8080/",
          "height": 603
        },
        "id": "ipBAc3XXYWIe",
        "outputId": "361f5a33-02b1-4160-8779-055bd0c865c3"
      },
      "source": [
        "get_vif_factors( X[X_new_features] )"
      ],
      "execution_count": 25,
      "outputs": [
        {
          "output_type": "execute_result",
          "data": {
            "text/html": [
              "<div>\n",
              "<style scoped>\n",
              "    .dataframe tbody tr th:only-of-type {\n",
              "        vertical-align: middle;\n",
              "    }\n",
              "\n",
              "    .dataframe tbody tr th {\n",
              "        vertical-align: top;\n",
              "    }\n",
              "\n",
              "    .dataframe thead th {\n",
              "        text-align: right;\n",
              "    }\n",
              "</style>\n",
              "<table border=\"1\" class=\"dataframe\">\n",
              "  <thead>\n",
              "    <tr style=\"text-align: right;\">\n",
              "      <th></th>\n",
              "      <th>column</th>\n",
              "      <th>vif</th>\n",
              "    </tr>\n",
              "  </thead>\n",
              "  <tbody>\n",
              "    <tr>\n",
              "      <th>0</th>\n",
              "      <td>COUNTRY_ZIM</td>\n",
              "      <td>1.205305</td>\n",
              "    </tr>\n",
              "    <tr>\n",
              "      <th>1</th>\n",
              "      <td>COUNTRY_BAN</td>\n",
              "      <td>1.094293</td>\n",
              "    </tr>\n",
              "    <tr>\n",
              "      <th>2</th>\n",
              "      <td>CAPTAINCY EXP_1</td>\n",
              "      <td>2.458745</td>\n",
              "    </tr>\n",
              "    <tr>\n",
              "      <th>3</th>\n",
              "      <td>COUNTRY_SA</td>\n",
              "      <td>1.416657</td>\n",
              "    </tr>\n",
              "    <tr>\n",
              "      <th>4</th>\n",
              "      <td>COUNTRY_ENG</td>\n",
              "      <td>1.131869</td>\n",
              "    </tr>\n",
              "    <tr>\n",
              "      <th>5</th>\n",
              "      <td>PLAYING ROLE_Bowler</td>\n",
              "      <td>3.060168</td>\n",
              "    </tr>\n",
              "    <tr>\n",
              "      <th>6</th>\n",
              "      <td>ODI-SR-BL</td>\n",
              "      <td>2.822148</td>\n",
              "    </tr>\n",
              "    <tr>\n",
              "      <th>7</th>\n",
              "      <td>ODI-WKTS</td>\n",
              "      <td>2.742889</td>\n",
              "    </tr>\n",
              "    <tr>\n",
              "      <th>8</th>\n",
              "      <td>WKTS</td>\n",
              "      <td>2.883101</td>\n",
              "    </tr>\n",
              "    <tr>\n",
              "      <th>9</th>\n",
              "      <td>AGE_3</td>\n",
              "      <td>1.779861</td>\n",
              "    </tr>\n",
              "    <tr>\n",
              "      <th>10</th>\n",
              "      <td>COUNTRY_WI</td>\n",
              "      <td>1.194093</td>\n",
              "    </tr>\n",
              "    <tr>\n",
              "      <th>11</th>\n",
              "      <td>PLAYING ROLE_W. Keeper</td>\n",
              "      <td>1.900941</td>\n",
              "    </tr>\n",
              "    <tr>\n",
              "      <th>12</th>\n",
              "      <td>COUNTRY_PAK</td>\n",
              "      <td>1.334773</td>\n",
              "    </tr>\n",
              "    <tr>\n",
              "      <th>13</th>\n",
              "      <td>COUNTRY_NZ</td>\n",
              "      <td>1.173418</td>\n",
              "    </tr>\n",
              "    <tr>\n",
              "      <th>14</th>\n",
              "      <td>PLAYING ROLE_Batsman</td>\n",
              "      <td>2.680207</td>\n",
              "    </tr>\n",
              "    <tr>\n",
              "      <th>15</th>\n",
              "      <td>COUNTRY_SL</td>\n",
              "      <td>1.519752</td>\n",
              "    </tr>\n",
              "    <tr>\n",
              "      <th>16</th>\n",
              "      <td>SIXERS</td>\n",
              "      <td>2.397409</td>\n",
              "    </tr>\n",
              "    <tr>\n",
              "      <th>17</th>\n",
              "      <td>COUNTRY_IND</td>\n",
              "      <td>3.144668</td>\n",
              "    </tr>\n",
              "  </tbody>\n",
              "</table>\n",
              "</div>"
            ],
            "text/plain": [
              "                    column       vif\n",
              "0              COUNTRY_ZIM  1.205305\n",
              "1              COUNTRY_BAN  1.094293\n",
              "2          CAPTAINCY EXP_1  2.458745\n",
              "3               COUNTRY_SA  1.416657\n",
              "4              COUNTRY_ENG  1.131869\n",
              "5      PLAYING ROLE_Bowler  3.060168\n",
              "6                ODI-SR-BL  2.822148\n",
              "7                 ODI-WKTS  2.742889\n",
              "8                     WKTS  2.883101\n",
              "9                    AGE_3  1.779861\n",
              "10              COUNTRY_WI  1.194093\n",
              "11  PLAYING ROLE_W. Keeper  1.900941\n",
              "12             COUNTRY_PAK  1.334773\n",
              "13              COUNTRY_NZ  1.173418\n",
              "14    PLAYING ROLE_Batsman  2.680207\n",
              "15              COUNTRY_SL  1.519752\n",
              "16                  SIXERS  2.397409\n",
              "17             COUNTRY_IND  3.144668"
            ]
          },
          "metadata": {},
          "execution_count": 25
        }
      ]
    },
    {
      "cell_type": "markdown",
      "metadata": {
        "id": "okDr_CGnYa-l"
      },
      "source": [
        "Building a new model after removing multicollinearity"
      ]
    },
    {
      "cell_type": "code",
      "metadata": {
        "colab": {
          "base_uri": "https://localhost:8080/",
          "height": 634
        },
        "id": "Q2ZEZ1X7YcMK",
        "outputId": "64b500c1-0a71-4b5b-b1b0-9a88656d4eb1"
      },
      "source": [
        "train_X = train_X[X_new_features]\n",
        "ipl_model_2 = sm.OLS(train_y, train_X).fit()\n",
        "ipl_model_2.summary2()"
      ],
      "execution_count": 26,
      "outputs": [
        {
          "output_type": "execute_result",
          "data": {
            "text/html": [
              "<table class=\"simpletable\">\n",
              "<tr>\n",
              "          <td>Model:</td>                 <td>OLS</td>       <td>Adj. R-squared (uncentered):</td>    <td>0.728</td>  \n",
              "</tr>\n",
              "<tr>\n",
              "    <td>Dependent Variable:</td>      <td>SOLD PRICE</td>                <td>AIC:</td>              <td>2965.1080</td>\n",
              "</tr>\n",
              "<tr>\n",
              "           <td>Date:</td>          <td>2021-10-16 13:57</td>             <td>BIC:</td>              <td>3012.7070</td>\n",
              "</tr>\n",
              "<tr>\n",
              "     <td>No. Observations:</td>           <td>104</td>              <td>Log-Likelihood:</td>         <td>-1464.6</td> \n",
              "</tr>\n",
              "<tr>\n",
              "         <td>Df Model:</td>               <td>18</td>                <td>F-statistic:</td>            <td>16.49</td>  \n",
              "</tr>\n",
              "<tr>\n",
              "       <td>Df Residuals:</td>             <td>86</td>             <td>Prob (F-statistic):</td>      <td>1.13e-20</td> \n",
              "</tr>\n",
              "<tr>\n",
              "  <td>R-squared (uncentered):</td>       <td>0.775</td>                 <td>Scale:</td>            <td>1.2071e+11</td>\n",
              "</tr>\n",
              "</table>\n",
              "<table class=\"simpletable\">\n",
              "<tr>\n",
              "             <td></td>                <th>Coef.</th>     <th>Std.Err.</th>      <th>t</th>     <th>P>|t|</th>    <th>[0.025</th>       <th>0.975]</th>   \n",
              "</tr>\n",
              "<tr>\n",
              "  <th>COUNTRY_ZIM</th>             <td>-67977.6781</td> <td>390859.9289</td> <td>-0.1739</td> <td>0.8623</td> <td>-844981.5006</td>  <td>709026.1444</td>\n",
              "</tr>\n",
              "<tr>\n",
              "  <th>COUNTRY_BAN</th>            <td>-108758.6040</td> <td>369274.1916</td> <td>-0.2945</td> <td>0.7691</td> <td>-842851.4010</td>  <td>625334.1930</td>\n",
              "</tr>\n",
              "<tr>\n",
              "  <th>CAPTAINCY EXP_1</th>         <td>208376.6957</td> <td>98128.0284</td>  <td>2.1235</td>  <td>0.0366</td>  <td>13304.6315</td>   <td>403448.7600</td>\n",
              "</tr>\n",
              "<tr>\n",
              "  <th>COUNTRY_SA</th>              <td>108735.9086</td> <td>115092.9596</td> <td>0.9448</td>  <td>0.3474</td> <td>-120061.3227</td>  <td>337533.1399</td>\n",
              "</tr>\n",
              "<tr>\n",
              "  <th>COUNTRY_ENG</th>             <td>682934.7166</td> <td>216150.8279</td> <td>3.1595</td>  <td>0.0022</td>  <td>253241.0920</td> <td>1112628.3411</td>\n",
              "</tr>\n",
              "<tr>\n",
              "  <th>PLAYING ROLE_Bowler</th>     <td>-18315.4968</td> <td>106035.9664</td> <td>-0.1727</td> <td>0.8633</td> <td>-229108.0215</td>  <td>192477.0279</td>\n",
              "</tr>\n",
              "<tr>\n",
              "  <th>ODI-SR-BL</th>                <td>909.0021</td>    <td>1267.4969</td>  <td>0.7172</td>  <td>0.4752</td>  <td>-1610.6983</td>    <td>3428.7026</td> \n",
              "</tr>\n",
              "<tr>\n",
              "  <th>ODI-WKTS</th>                 <td>772.4088</td>    <td>470.6354</td>   <td>1.6412</td>  <td>0.1044</td>   <td>-163.1834</td>    <td>1708.0009</td> \n",
              "</tr>\n",
              "<tr>\n",
              "  <th>WKTS</th>                     <td>2431.8988</td>   <td>2105.3524</td>  <td>1.1551</td>  <td>0.2512</td>  <td>-1753.4033</td>    <td>6617.2008</td> \n",
              "</tr>\n",
              "<tr>\n",
              "  <th>AGE_3</th>                   <td>-8950.6659</td>  <td>98041.9325</td>  <td>-0.0913</td> <td>0.9275</td> <td>-203851.5772</td>  <td>185950.2453</td>\n",
              "</tr>\n",
              "<tr>\n",
              "  <th>COUNTRY_WI</th>              <td>-22234.9315</td> <td>213050.5847</td> <td>-0.1044</td> <td>0.9171</td> <td>-445765.4766</td>  <td>401295.6135</td>\n",
              "</tr>\n",
              "<tr>\n",
              "  <th>PLAYING ROLE_W. Keeper</th>  <td>-55121.9240</td> <td>169922.5271</td> <td>-0.3244</td> <td>0.7464</td> <td>-392916.7280</td>  <td>282672.8801</td>\n",
              "</tr>\n",
              "<tr>\n",
              "  <th>COUNTRY_PAK</th>             <td>122810.2480</td> <td>159600.8063</td> <td>0.7695</td>  <td>0.4437</td> <td>-194465.6541</td>  <td>440086.1502</td>\n",
              "</tr>\n",
              "<tr>\n",
              "  <th>COUNTRY_NZ</th>              <td>142968.8843</td> <td>151841.7382</td> <td>0.9416</td>  <td>0.3491</td> <td>-158882.5009</td>  <td>444820.2695</td>\n",
              "</tr>\n",
              "<tr>\n",
              "  <th>PLAYING ROLE_Batsman</th>    <td>121382.0570</td> <td>106685.0356</td> <td>1.1378</td>  <td>0.2584</td>  <td>-90700.7746</td>  <td>333464.8886</td>\n",
              "</tr>\n",
              "<tr>\n",
              "  <th>COUNTRY_SL</th>              <td>55912.3398</td>  <td>142277.1829</td> <td>0.3930</td>  <td>0.6953</td> <td>-226925.3388</td>  <td>338750.0184</td>\n",
              "</tr>\n",
              "<tr>\n",
              "  <th>SIXERS</th>                   <td>7862.1259</td>   <td>2086.6101</td>  <td>3.7679</td>  <td>0.0003</td>   <td>3714.0824</td>   <td>12010.1694</td> \n",
              "</tr>\n",
              "<tr>\n",
              "  <th>COUNTRY_IND</th>             <td>282829.8091</td> <td>96188.0292</td>  <td>2.9404</td>  <td>0.0042</td>  <td>91614.3356</td>   <td>474045.2827</td>\n",
              "</tr>\n",
              "</table>\n",
              "<table class=\"simpletable\">\n",
              "<tr>\n",
              "     <td>Omnibus:</td>    <td>8.635</td>  <td>Durbin-Watson:</td>   <td>2.252</td>\n",
              "</tr>\n",
              "<tr>\n",
              "  <td>Prob(Omnibus):</td> <td>0.013</td> <td>Jarque-Bera (JB):</td> <td>8.345</td>\n",
              "</tr>\n",
              "<tr>\n",
              "       <td>Skew:</td>     <td>0.623</td>     <td>Prob(JB):</td>     <td>0.015</td>\n",
              "</tr>\n",
              "<tr>\n",
              "     <td>Kurtosis:</td>   <td>3.609</td>  <td>Condition No.:</td>   <td>1492</td> \n",
              "</tr>\n",
              "</table>"
            ],
            "text/plain": [
              "<class 'statsmodels.iolib.summary2.Summary'>\n",
              "\"\"\"\n",
              "                            Results: Ordinary least squares\n",
              "========================================================================================\n",
              "Model:                      OLS                Adj. R-squared (uncentered):   0.728     \n",
              "Dependent Variable:         SOLD PRICE         AIC:                           2965.1080 \n",
              "Date:                       2021-10-16 13:57   BIC:                           3012.7070 \n",
              "No. Observations:           104                Log-Likelihood:                -1464.6   \n",
              "Df Model:                   18                 F-statistic:                   16.49     \n",
              "Df Residuals:               86                 Prob (F-statistic):            1.13e-20  \n",
              "R-squared (uncentered):     0.775              Scale:                         1.2071e+11\n",
              "----------------------------------------------------------------------------------------\n",
              "                          Coef.       Std.Err.     t    P>|t|     [0.025       0.975]   \n",
              "----------------------------------------------------------------------------------------\n",
              "COUNTRY_ZIM             -67977.6781 390859.9289 -0.1739 0.8623 -844981.5006  709026.1444\n",
              "COUNTRY_BAN            -108758.6040 369274.1916 -0.2945 0.7691 -842851.4010  625334.1930\n",
              "CAPTAINCY EXP_1         208376.6957  98128.0284  2.1235 0.0366   13304.6315  403448.7600\n",
              "COUNTRY_SA              108735.9086 115092.9596  0.9448 0.3474 -120061.3227  337533.1399\n",
              "COUNTRY_ENG             682934.7166 216150.8279  3.1595 0.0022  253241.0920 1112628.3411\n",
              "PLAYING ROLE_Bowler     -18315.4968 106035.9664 -0.1727 0.8633 -229108.0215  192477.0279\n",
              "ODI-SR-BL                  909.0021   1267.4969  0.7172 0.4752   -1610.6983    3428.7026\n",
              "ODI-WKTS                   772.4088    470.6354  1.6412 0.1044    -163.1834    1708.0009\n",
              "WKTS                      2431.8988   2105.3524  1.1551 0.2512   -1753.4033    6617.2008\n",
              "AGE_3                    -8950.6659  98041.9325 -0.0913 0.9275 -203851.5772  185950.2453\n",
              "COUNTRY_WI              -22234.9315 213050.5847 -0.1044 0.9171 -445765.4766  401295.6135\n",
              "PLAYING ROLE_W. Keeper  -55121.9240 169922.5271 -0.3244 0.7464 -392916.7280  282672.8801\n",
              "COUNTRY_PAK             122810.2480 159600.8063  0.7695 0.4437 -194465.6541  440086.1502\n",
              "COUNTRY_NZ              142968.8843 151841.7382  0.9416 0.3491 -158882.5009  444820.2695\n",
              "PLAYING ROLE_Batsman    121382.0570 106685.0356  1.1378 0.2584  -90700.7746  333464.8886\n",
              "COUNTRY_SL               55912.3398 142277.1829  0.3930 0.6953 -226925.3388  338750.0184\n",
              "SIXERS                    7862.1259   2086.6101  3.7679 0.0003    3714.0824   12010.1694\n",
              "COUNTRY_IND             282829.8091  96188.0292  2.9404 0.0042   91614.3356  474045.2827\n",
              "----------------------------------------------------------------------------------------\n",
              "Omnibus:                       8.635               Durbin-Watson:                  2.252\n",
              "Prob(Omnibus):                 0.013               Jarque-Bera (JB):               8.345\n",
              "Skew:                          0.623               Prob(JB):                       0.015\n",
              "Kurtosis:                      3.609               Condition No.:                  1492 \n",
              "========================================================================================\n",
              "* The condition number is large (1e+03). This might indicate             strong\n",
              "multicollinearity or other numerical problems.\n",
              "\"\"\""
            ]
          },
          "metadata": {},
          "execution_count": 26
        }
      ]
    },
    {
      "cell_type": "code",
      "metadata": {
        "colab": {
          "base_uri": "https://localhost:8080/",
          "height": 348
        },
        "id": "1DKwI8ktYjkU",
        "outputId": "016bbac9-6da3-4423-cf66-2d27a0ee7f1d"
      },
      "source": [
        "significant_vars = ['COUNTRY_IND', 'COUNTRY_ENG', 'SIXERS', 'CAPTAINCY EXP_1']\n",
        "train_X = train_X[significant_vars]\n",
        "ipl_model_3 = sm.OLS(train_y, train_X).fit()\n",
        "ipl_model_3.summary2()\n",
        "# Removing the non-significant variables to improve the model"
      ],
      "execution_count": 28,
      "outputs": [
        {
          "output_type": "execute_result",
          "data": {
            "text/html": [
              "<table class=\"simpletable\">\n",
              "<tr>\n",
              "          <td>Model:</td>                 <td>OLS</td>       <td>Adj. R-squared (uncentered):</td>    <td>0.704</td>  \n",
              "</tr>\n",
              "<tr>\n",
              "    <td>Dependent Variable:</td>      <td>SOLD PRICE</td>                <td>AIC:</td>              <td>2961.8089</td>\n",
              "</tr>\n",
              "<tr>\n",
              "           <td>Date:</td>          <td>2021-10-16 14:07</td>             <td>BIC:</td>              <td>2972.3864</td>\n",
              "</tr>\n",
              "<tr>\n",
              "     <td>No. Observations:</td>           <td>104</td>              <td>Log-Likelihood:</td>         <td>-1476.9</td> \n",
              "</tr>\n",
              "<tr>\n",
              "         <td>Df Model:</td>                <td>4</td>                <td>F-statistic:</td>            <td>62.77</td>  \n",
              "</tr>\n",
              "<tr>\n",
              "       <td>Df Residuals:</td>             <td>100</td>            <td>Prob (F-statistic):</td>      <td>1.97e-26</td> \n",
              "</tr>\n",
              "<tr>\n",
              "  <td>R-squared (uncentered):</td>       <td>0.715</td>                 <td>Scale:</td>            <td>1.3164e+11</td>\n",
              "</tr>\n",
              "</table>\n",
              "<table class=\"simpletable\">\n",
              "<tr>\n",
              "         <td></td>            <th>Coef.</th>     <th>Std.Err.</th>      <th>t</th>    <th>P>|t|</th>   <th>[0.025</th>       <th>0.975]</th>   \n",
              "</tr>\n",
              "<tr>\n",
              "  <th>COUNTRY_IND</th>     <td>387890.2538</td> <td>63007.1511</td>  <td>6.1563</td> <td>0.0000</td> <td>262885.8606</td>  <td>512894.6471</td>\n",
              "</tr>\n",
              "<tr>\n",
              "  <th>COUNTRY_ENG</th>     <td>731833.6386</td> <td>214164.4988</td> <td>3.4172</td> <td>0.0009</td> <td>306937.3727</td> <td>1156729.9045</td>\n",
              "</tr>\n",
              "<tr>\n",
              "  <th>SIXERS</th>           <td>8637.8344</td>   <td>1675.1313</td>  <td>5.1565</td> <td>0.0000</td>  <td>5314.4216</td>   <td>11961.2472</td> \n",
              "</tr>\n",
              "<tr>\n",
              "  <th>CAPTAINCY EXP_1</th> <td>359725.2741</td> <td>74930.3460</td>  <td>4.8008</td> <td>0.0000</td> <td>211065.6018</td>  <td>508384.9463</td>\n",
              "</tr>\n",
              "</table>\n",
              "<table class=\"simpletable\">\n",
              "<tr>\n",
              "     <td>Omnibus:</td>    <td>1.130</td>  <td>Durbin-Watson:</td>   <td>2.238</td>\n",
              "</tr>\n",
              "<tr>\n",
              "  <td>Prob(Omnibus):</td> <td>0.568</td> <td>Jarque-Bera (JB):</td> <td>0.874</td>\n",
              "</tr>\n",
              "<tr>\n",
              "       <td>Skew:</td>     <td>0.223</td>     <td>Prob(JB):</td>     <td>0.646</td>\n",
              "</tr>\n",
              "<tr>\n",
              "     <td>Kurtosis:</td>   <td>3.046</td>  <td>Condition No.:</td>    <td>165</td> \n",
              "</tr>\n",
              "</table>"
            ],
            "text/plain": [
              "<class 'statsmodels.iolib.summary2.Summary'>\n",
              "\"\"\"\n",
              "                        Results: Ordinary least squares\n",
              "================================================================================\n",
              "Model:                  OLS              Adj. R-squared (uncentered): 0.704     \n",
              "Dependent Variable:     SOLD PRICE       AIC:                         2961.8089 \n",
              "Date:                   2021-10-16 14:07 BIC:                         2972.3864 \n",
              "No. Observations:       104              Log-Likelihood:              -1476.9   \n",
              "Df Model:               4                F-statistic:                 62.77     \n",
              "Df Residuals:           100              Prob (F-statistic):          1.97e-26  \n",
              "R-squared (uncentered): 0.715            Scale:                       1.3164e+11\n",
              "--------------------------------------------------------------------------------\n",
              "                     Coef.      Std.Err.    t    P>|t|     [0.025      0.975]   \n",
              "--------------------------------------------------------------------------------\n",
              "COUNTRY_IND       387890.2538  63007.1511 6.1563 0.0000 262885.8606  512894.6471\n",
              "COUNTRY_ENG       731833.6386 214164.4988 3.4172 0.0009 306937.3727 1156729.9045\n",
              "SIXERS              8637.8344   1675.1313 5.1565 0.0000   5314.4216   11961.2472\n",
              "CAPTAINCY EXP_1   359725.2741  74930.3460 4.8008 0.0000 211065.6018  508384.9463\n",
              "--------------------------------------------------------------------------------\n",
              "Omnibus:                   1.130             Durbin-Watson:                2.238\n",
              "Prob(Omnibus):             0.568             Jarque-Bera (JB):             0.874\n",
              "Skew:                      0.223             Prob(JB):                     0.646\n",
              "Kurtosis:                  3.046             Condition No.:                165  \n",
              "================================================================================\n",
              "\n",
              "\"\"\""
            ]
          },
          "metadata": {},
          "execution_count": 28
        }
      ]
    },
    {
      "cell_type": "markdown",
      "metadata": {
        "id": "AL4jK7e-Ysvy"
      },
      "source": [
        "Residual Analysis"
      ]
    },
    {
      "cell_type": "code",
      "metadata": {
        "colab": {
          "base_uri": "https://localhost:8080/",
          "height": 312
        },
        "id": "8LXzWlQ4YoiR",
        "outputId": "533538ad-3e40-4de2-89e0-8f52344aebcf"
      },
      "source": [
        "def draw_pp_plot( model, title ):\n",
        "    probplot = sm.ProbPlot( model.resid );\n",
        "    plt.figure( figsize = (8, 6) );\n",
        "    probplot.ppplot( line='45' );\n",
        "    plt.title( title );\n",
        "    plt.show();\n",
        "\n",
        "\n",
        "draw_pp_plot( ipl_model_3,\n",
        "\"Figure 4.6 - Normal P-P Plot of Regression Standardized Residuals\");   "
      ],
      "execution_count": 30,
      "outputs": [
        {
          "output_type": "display_data",
          "data": {
            "text/plain": [
              "<Figure size 576x432 with 0 Axes>"
            ]
          },
          "metadata": {}
        },
        {
          "output_type": "display_data",
          "data": {
            "image/png": "[encoded data removed]",
            "text/plain": [
              "<Figure size 432x288 with 1 Axes>"
            ]
          },
          "metadata": {
            "needs_background": "light"
          }
        }
      ]
    },
    {
      "cell_type": "markdown",
      "metadata": {
        "id": "ckp3VQ8-ZGCO"
      },
      "source": [
        "Residual Plot"
      ]
    },
    {
      "cell_type": "code",
      "metadata": {
        "id": "pw9yUvG2Zf3C"
      },
      "source": [
        "def get_standardized_values( vals ):\n",
        "    return (vals - vals.mean())/vals.std()"
      ],
      "execution_count": 31,
      "outputs": []
    },
    {
      "cell_type": "code",
      "metadata": {
        "id": "ouXFcGIrZFaW"
      },
      "source": [
        "def plot_resid_fitted( fitted, resid, title):\n",
        "    plt.scatter( get_standardized_values( fitted ),\n",
        "    get_standardized_values( resid ) )\n",
        "    plt.title( title )\n",
        "    plt.xlabel( \"Standardized predicted values\")\n",
        "    plt.ylabel( \"Standardized residual values\")\n",
        "    plt.show()"
      ],
      "execution_count": 32,
      "outputs": []
    },
    {
      "cell_type": "code",
      "metadata": {
        "colab": {
          "base_uri": "https://localhost:8080/",
          "height": 295
        },
        "id": "fhreDjTaZMad",
        "outputId": "95a4a2f6-7024-44a3-bda8-75ad9d9c5748"
      },
      "source": [
        "plot_resid_fitted( ipl_model_3.fittedvalues,\n",
        "                    ipl_model_3.resid,\n",
        "                    \"Figure 4.7 - Residual Plot\")\n",
        "# The scatter represents it has heteroscedacity and the model is fine, if it follow any pattern we shud not consider the model"
      ],
      "execution_count": 33,
      "outputs": [
        {
          "output_type": "display_data",
          "data": {
            "image/png": "[encoded data removed]",
            "text/plain": [
              "<Figure size 432x288 with 1 Axes>"
            ]
          },
          "metadata": {
            "needs_background": "light"
          }
        }
      ]
    },
    {
      "cell_type": "markdown",
      "metadata": {
        "id": "qdo3XdLwZokt"
      },
      "source": [
        "Detecting Influencers"
      ]
    },
    {
      "cell_type": "code",
      "metadata": {
        "id": "jkO1KOOOZquW"
      },
      "source": [
        "k = train_X.shape[1]\n",
        "n = train_X.shape[0]"
      ],
      "execution_count": 34,
      "outputs": []
    },
    {
      "cell_type": "code",
      "metadata": {
        "colab": {
          "base_uri": "https://localhost:8080/"
        },
        "id": "8HF-4GNiaCFj",
        "outputId": "c761afeb-c8aa-4965-cd08-fd0e9ed592a4"
      },
      "source": [
        "print( \"Number of variables:\", k, \" and number of observations:\", n)"
      ],
      "execution_count": 35,
      "outputs": [
        {
          "output_type": "stream",
          "name": "stdout",
          "text": [
            "Number of variables: 4  and number of observations: 104\n"
          ]
        }
      ]
    },
    {
      "cell_type": "code",
      "metadata": {
        "colab": {
          "base_uri": "https://localhost:8080/"
        },
        "id": "iJoiMXrIaFi1",
        "outputId": "db501099-12f6-4e02-bc50-9ae37f391550"
      },
      "source": [
        "leverage_cutoff = 3*((k + 1)/n)\n",
        "print( \"Cutoff for leverage value: \", round(leverage_cutoff, 3) )"
      ],
      "execution_count": 36,
      "outputs": [
        {
          "output_type": "stream",
          "name": "stdout",
          "text": [
            "Cutoff for leverage value:  0.144\n"
          ]
        }
      ]
    },
    {
      "cell_type": "code",
      "metadata": {
        "colab": {
          "base_uri": "https://localhost:8080/",
          "height": 409
        },
        "id": "YEoV0h8HaG5K",
        "outputId": "0fc2d387-0ec2-4f7d-f362-94026e9facbf"
      },
      "source": [
        "from statsmodels.graphics.regressionplots import influence_plot\n",
        "fig, ax = plt.subplots( figsize=(8,6) )\n",
        "influence_plot( ipl_model_3, ax = ax )\n",
        "plt.title( \"Figure 4.7 - Leverage Value Vs Residuals\")\n",
        "plt.show()"
      ],
      "execution_count": 37,
      "outputs": [
        {
          "output_type": "display_data",
          "data": {
            "image/png": "[encoded data removed]",
            "text/plain": [
              "<Figure size 576x432 with 1 Axes>"
            ]
          },
          "metadata": {
            "needs_background": "light"
          }
        }
      ]
    },
    {
      "cell_type": "code",
      "metadata": {
        "colab": {
          "base_uri": "https://localhost:8080/",
          "height": 212
        },
        "id": "ImKWBj3EaOui",
        "outputId": "4f8b5495-2797-4aea-82c4-5ca95a37865d"
      },
      "source": [
        "ipl_auction_df[ipl_auction_df.index.isin( [23, 58, 83] )]\n",
        "# TO find out who are the influening var./ outliers"
      ],
      "execution_count": 44,
      "outputs": [
        {
          "output_type": "execute_result",
          "data": {
            "text/html": [
              "<div>\n",
              "<style scoped>\n",
              "    .dataframe tbody tr th:only-of-type {\n",
              "        vertical-align: middle;\n",
              "    }\n",
              "\n",
              "    .dataframe tbody tr th {\n",
              "        vertical-align: top;\n",
              "    }\n",
              "\n",
              "    .dataframe thead th {\n",
              "        text-align: right;\n",
              "    }\n",
              "</style>\n",
              "<table border=\"1\" class=\"dataframe\">\n",
              "  <thead>\n",
              "    <tr style=\"text-align: right;\">\n",
              "      <th></th>\n",
              "      <th>Sl.NO.</th>\n",
              "      <th>PLAYER NAME</th>\n",
              "      <th>AGE</th>\n",
              "      <th>COUNTRY</th>\n",
              "      <th>TEAM</th>\n",
              "      <th>PLAYING ROLE</th>\n",
              "      <th>T-RUNS</th>\n",
              "      <th>T-WKTS</th>\n",
              "      <th>ODI-RUNS-S</th>\n",
              "      <th>ODI-SR-B</th>\n",
              "      <th>ODI-WKTS</th>\n",
              "      <th>ODI-SR-BL</th>\n",
              "      <th>CAPTAINCY EXP</th>\n",
              "      <th>RUNS-S</th>\n",
              "      <th>HS</th>\n",
              "      <th>AVE</th>\n",
              "      <th>SR-B</th>\n",
              "      <th>SIXERS</th>\n",
              "      <th>RUNS-C</th>\n",
              "      <th>WKTS</th>\n",
              "      <th>AVE-BL</th>\n",
              "      <th>ECON</th>\n",
              "      <th>SR-BL</th>\n",
              "      <th>AUCTION YEAR</th>\n",
              "      <th>BASE PRICE</th>\n",
              "      <th>SOLD PRICE</th>\n",
              "    </tr>\n",
              "  </thead>\n",
              "  <tbody>\n",
              "    <tr>\n",
              "      <th>23</th>\n",
              "      <td>24</td>\n",
              "      <td>Flintoff, A</td>\n",
              "      <td>2</td>\n",
              "      <td>ENG</td>\n",
              "      <td>CSK</td>\n",
              "      <td>Allrounder</td>\n",
              "      <td>3845</td>\n",
              "      <td>226</td>\n",
              "      <td>3394</td>\n",
              "      <td>88.82</td>\n",
              "      <td>169</td>\n",
              "      <td>33.2</td>\n",
              "      <td>1</td>\n",
              "      <td>62</td>\n",
              "      <td>24</td>\n",
              "      <td>31.00</td>\n",
              "      <td>116.98</td>\n",
              "      <td>2</td>\n",
              "      <td>105</td>\n",
              "      <td>2</td>\n",
              "      <td>52.50</td>\n",
              "      <td>9.55</td>\n",
              "      <td>33.00</td>\n",
              "      <td>2009</td>\n",
              "      <td>950000</td>\n",
              "      <td>1550000</td>\n",
              "    </tr>\n",
              "    <tr>\n",
              "      <th>58</th>\n",
              "      <td>59</td>\n",
              "      <td>Mascarenhas, AD</td>\n",
              "      <td>2</td>\n",
              "      <td>ENG</td>\n",
              "      <td>RR+</td>\n",
              "      <td>Allrounder</td>\n",
              "      <td>0</td>\n",
              "      <td>0</td>\n",
              "      <td>245</td>\n",
              "      <td>95.33</td>\n",
              "      <td>13</td>\n",
              "      <td>63.2</td>\n",
              "      <td>0</td>\n",
              "      <td>74</td>\n",
              "      <td>27</td>\n",
              "      <td>8.22</td>\n",
              "      <td>101.37</td>\n",
              "      <td>1</td>\n",
              "      <td>331</td>\n",
              "      <td>19</td>\n",
              "      <td>17.42</td>\n",
              "      <td>7.01</td>\n",
              "      <td>14.95</td>\n",
              "      <td>2011</td>\n",
              "      <td>100000</td>\n",
              "      <td>100000</td>\n",
              "    </tr>\n",
              "    <tr>\n",
              "      <th>83</th>\n",
              "      <td>84</td>\n",
              "      <td>Pietersen, KP</td>\n",
              "      <td>2</td>\n",
              "      <td>ENG</td>\n",
              "      <td>RCB+</td>\n",
              "      <td>Batsman</td>\n",
              "      <td>6654</td>\n",
              "      <td>5</td>\n",
              "      <td>4184</td>\n",
              "      <td>86.76</td>\n",
              "      <td>7</td>\n",
              "      <td>57.1</td>\n",
              "      <td>1</td>\n",
              "      <td>634</td>\n",
              "      <td>103</td>\n",
              "      <td>42.27</td>\n",
              "      <td>141.20</td>\n",
              "      <td>30</td>\n",
              "      <td>215</td>\n",
              "      <td>7</td>\n",
              "      <td>30.71</td>\n",
              "      <td>7.41</td>\n",
              "      <td>24.86</td>\n",
              "      <td>2009</td>\n",
              "      <td>1350000</td>\n",
              "      <td>1550000</td>\n",
              "    </tr>\n",
              "  </tbody>\n",
              "</table>\n",
              "</div>"
            ],
            "text/plain": [
              "    Sl.NO.      PLAYER NAME  AGE  ... AUCTION YEAR BASE PRICE SOLD PRICE\n",
              "23      24      Flintoff, A    2  ...         2009     950000    1550000\n",
              "58      59  Mascarenhas, AD    2  ...         2011     100000     100000\n",
              "83      84    Pietersen, KP    2  ...         2009    1350000    1550000\n",
              "\n",
              "[3 rows x 26 columns]"
            ]
          },
          "metadata": {},
          "execution_count": 44
        }
      ]
    },
    {
      "cell_type": "code",
      "metadata": {
        "id": "wkZcRBViaTuY"
      },
      "source": [
        "train_X_new = train_X.drop( [23, 58, 83], axis = 0)\n",
        "train_y_new = train_y.drop( [23, 58, 83], axis = 0)"
      ],
      "execution_count": 41,
      "outputs": []
    },
    {
      "cell_type": "markdown",
      "metadata": {
        "id": "SkQa8z7XaY2t"
      },
      "source": [
        "Transforming Response Variable"
      ]
    },
    {
      "cell_type": "code",
      "metadata": {
        "id": "vHda3eq5aZw6"
      },
      "source": [
        "train_y = np.sqrt( train_y )"
      ],
      "execution_count": 42,
      "outputs": []
    },
    {
      "cell_type": "code",
      "metadata": {
        "colab": {
          "base_uri": "https://localhost:8080/",
          "height": 348
        },
        "id": "I_8m8sY4aeKw",
        "outputId": "c453f99a-8206-4d4f-df6f-3237f3268989"
      },
      "source": [
        "ipl_model_4 = sm.OLS(train_y, train_X).fit()\n",
        "ipl_model_4.summary2()"
      ],
      "execution_count": 43,
      "outputs": [
        {
          "output_type": "execute_result",
          "data": {
            "text/html": [
              "<table class=\"simpletable\">\n",
              "<tr>\n",
              "          <td>Model:</td>                 <td>OLS</td>       <td>Adj. R-squared (uncentered):</td>    <td>0.741</td>  \n",
              "</tr>\n",
              "<tr>\n",
              "    <td>Dependent Variable:</td>      <td>SOLD PRICE</td>                <td>AIC:</td>              <td>1527.9999</td>\n",
              "</tr>\n",
              "<tr>\n",
              "           <td>Date:</td>          <td>2021-10-16 14:10</td>             <td>BIC:</td>              <td>1538.5775</td>\n",
              "</tr>\n",
              "<tr>\n",
              "     <td>No. Observations:</td>           <td>104</td>              <td>Log-Likelihood:</td>         <td>-760.00</td> \n",
              "</tr>\n",
              "<tr>\n",
              "         <td>Df Model:</td>                <td>4</td>                <td>F-statistic:</td>            <td>75.29</td>  \n",
              "</tr>\n",
              "<tr>\n",
              "       <td>Df Residuals:</td>             <td>100</td>            <td>Prob (F-statistic):</td>      <td>2.63e-29</td> \n",
              "</tr>\n",
              "<tr>\n",
              "  <td>R-squared (uncentered):</td>       <td>0.751</td>                 <td>Scale:</td>            <td>1.3550e+05</td>\n",
              "</tr>\n",
              "</table>\n",
              "<table class=\"simpletable\">\n",
              "<tr>\n",
              "         <td></td>           <th>Coef.</th>  <th>Std.Err.</th>    <th>t</th>    <th>P>|t|</th>  <th>[0.025</th>   <th>0.975]</th> \n",
              "</tr>\n",
              "<tr>\n",
              "  <th>COUNTRY_IND</th>     <td>490.7089</td>  <td>63.9238</td> <td>7.6765</td> <td>0.0000</td> <td>363.8860</td> <td>617.5318</td>\n",
              "</tr>\n",
              "<tr>\n",
              "  <th>COUNTRY_ENG</th>     <td>563.0261</td> <td>217.2801</td> <td>2.5912</td> <td>0.0110</td> <td>131.9486</td> <td>994.1036</td>\n",
              "</tr>\n",
              "<tr>\n",
              "  <th>SIXERS</th>           <td>8.5338</td>   <td>1.6995</td>  <td>5.0213</td> <td>0.0000</td>  <td>5.1620</td>   <td>11.9055</td>\n",
              "</tr>\n",
              "<tr>\n",
              "  <th>CAPTAINCY EXP_1</th> <td>417.7575</td>  <td>76.0204</td> <td>5.4953</td> <td>0.0000</td> <td>266.9352</td> <td>568.5799</td>\n",
              "</tr>\n",
              "</table>\n",
              "<table class=\"simpletable\">\n",
              "<tr>\n",
              "     <td>Omnibus:</td>    <td>0.017</td>  <td>Durbin-Watson:</td>   <td>1.879</td>\n",
              "</tr>\n",
              "<tr>\n",
              "  <td>Prob(Omnibus):</td> <td>0.992</td> <td>Jarque-Bera (JB):</td> <td>0.145</td>\n",
              "</tr>\n",
              "<tr>\n",
              "       <td>Skew:</td>     <td>0.005</td>     <td>Prob(JB):</td>     <td>0.930</td>\n",
              "</tr>\n",
              "<tr>\n",
              "     <td>Kurtosis:</td>   <td>2.817</td>  <td>Condition No.:</td>    <td>165</td> \n",
              "</tr>\n",
              "</table>"
            ],
            "text/plain": [
              "<class 'statsmodels.iolib.summary2.Summary'>\n",
              "\"\"\"\n",
              "                        Results: Ordinary least squares\n",
              "================================================================================\n",
              "Model:                  OLS              Adj. R-squared (uncentered): 0.741     \n",
              "Dependent Variable:     SOLD PRICE       AIC:                         1527.9999 \n",
              "Date:                   2021-10-16 14:10 BIC:                         1538.5775 \n",
              "No. Observations:       104              Log-Likelihood:              -760.00   \n",
              "Df Model:               4                F-statistic:                 75.29     \n",
              "Df Residuals:           100              Prob (F-statistic):          2.63e-29  \n",
              "R-squared (uncentered): 0.751            Scale:                       1.3550e+05\n",
              "-----------------------------------------------------------------------------------\n",
              "                    Coef.      Std.Err.      t       P>|t|      [0.025      0.975] \n",
              "-----------------------------------------------------------------------------------\n",
              "COUNTRY_IND        490.7089     63.9238    7.6765    0.0000    363.8860    617.5318\n",
              "COUNTRY_ENG        563.0261    217.2801    2.5912    0.0110    131.9486    994.1036\n",
              "SIXERS               8.5338      1.6995    5.0213    0.0000      5.1620     11.9055\n",
              "CAPTAINCY EXP_1    417.7575     76.0204    5.4953    0.0000    266.9352    568.5799\n",
              "--------------------------------------------------------------------------------\n",
              "Omnibus:                   0.017             Durbin-Watson:                1.879\n",
              "Prob(Omnibus):             0.992             Jarque-Bera (JB):             0.145\n",
              "Skew:                      0.005             Prob(JB):                     0.930\n",
              "Kurtosis:                  2.817             Condition No.:                165  \n",
              "================================================================================\n",
              "\n",
              "\"\"\""
            ]
          },
          "metadata": {},
          "execution_count": 43
        }
      ]
    },
    {
      "cell_type": "markdown",
      "metadata": {
        "id": "w0jvw7gZalax"
      },
      "source": [
        "The r-squard value of the model has increased to 0.751. And the following P-P plot also shows that the\n",
        "residuals follow a normal distribution."
      ]
    },
    {
      "cell_type": "code",
      "metadata": {
        "colab": {
          "base_uri": "https://localhost:8080/",
          "height": 312
        },
        "id": "iR1FNzopamaF",
        "outputId": "21114b89-aff9-4939-9db3-3900426e5638"
      },
      "source": [
        "draw_pp_plot( ipl_model_4,\n",
        "\"Figure 4.8 - Normal P-P Plot of Regression Standardized Residuals\"\n",
        ");\n",
        "# follows normal dist. "
      ],
      "execution_count": 46,
      "outputs": [
        {
          "output_type": "display_data",
          "data": {
            "text/plain": [
              "<Figure size 576x432 with 0 Axes>"
            ]
          },
          "metadata": {}
        },
        {
          "output_type": "display_data",
          "data": {
            "image/png": "[encoded data removed]",
            "text/plain": [
              "<Figure size 432x288 with 1 Axes>"
            ]
          },
          "metadata": {
            "needs_background": "light"
          }
        }
      ]
    },
    {
      "cell_type": "markdown",
      "metadata": {
        "id": "MMET1KUcarRx"
      },
      "source": [
        "**Making predictions on validation set**"
      ]
    },
    {
      "cell_type": "code",
      "metadata": {
        "id": "P48tBHYLaxBG"
      },
      "source": [
        "pred_y = np.power( ipl_model_4.predict( test_X[train_X.columns] ), 2)\n"
      ],
      "execution_count": 47,
      "outputs": []
    },
    {
      "cell_type": "markdown",
      "metadata": {
        "id": "tlu4t9XSbHhF"
      },
      "source": [
        "**Measuring RMSE**"
      ]
    },
    {
      "cell_type": "code",
      "metadata": {
        "colab": {
          "base_uri": "https://localhost:8080/"
        },
        "id": "bQIr40Z4bAgx",
        "outputId": "a8e1a9bf-d60e-4b24-c95c-8773f5734db2"
      },
      "source": [
        "from sklearn import metrics\n",
        "np.sqrt(metrics.mean_squared_error(pred_y, test_y))"
      ],
      "execution_count": 48,
      "outputs": [
        {
          "output_type": "execute_result",
          "data": {
            "text/plain": [
              "496151.1812255804"
            ]
          },
          "metadata": {},
          "execution_count": 48
        }
      ]
    },
    {
      "cell_type": "markdown",
      "metadata": {
        "id": "uvaB3fh0bPaT"
      },
      "source": [
        "**Measuring R-squared value**"
      ]
    },
    {
      "cell_type": "code",
      "metadata": {
        "id": "Vfdb3km8bOFQ",
        "colab": {
          "base_uri": "https://localhost:8080/"
        },
        "outputId": "299a55e5-a21c-4709-cdb3-8190faff3cef"
      },
      "source": [
        "np.round( metrics.r2_score(pred_y, test_y), 2 )"
      ],
      "execution_count": 49,
      "outputs": [
        {
          "output_type": "execute_result",
          "data": {
            "text/plain": [
              "0.44"
            ]
          },
          "metadata": {},
          "execution_count": 49
        }
      ]
    }
  ]
}